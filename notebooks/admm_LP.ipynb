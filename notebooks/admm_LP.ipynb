{
 "cells": [
  {
   "cell_type": "code",
   "execution_count": 1,
   "metadata": {},
   "outputs": [],
   "source": [
    "# Standard form LP with random data\n",
    "import time\n",
    "\n",
    "import numpy as np\n",
    "from numpy.random import rand, randn, seed\n",
    "import matplotlib.pyplot as plt\n",
    "\n",
    "QUIET = False\n",
    "MAX_ITER = 1000\n",
    "ABSTOL = 1e-4\n",
    "RELTOL = 1e-2\n",
    "\n",
    "def linear_program(c, A, b, rho, alpha):\n",
    "    t_start = time.time()\n",
    "\n",
    "\n",
    "    m, n = np.shape(A)\n",
    "\n",
    "    z = np.zeros((n, 1))\n",
    "    u = np.zeros((n, 1))\n",
    "\n",
    "    if not QUIET:\n",
    "        print('%3s\\t' % 'iter', '%10s\\t' % 'r norm', '%10s\\t' % 'eps pri', '%10s\\t' % 's norm', '%10s\\t' % 'eps dual',\n",
    "              '%10s\\n' % 'objective')\n",
    "\n",
    "    history = {'objval': [], 'r_norm': [], 'eps_pri': [], 's_norm': [], 'eps_dual': [], 'iter': []}\n",
    "\n",
    "    for k in range(0, MAX_ITER):\n",
    "        # x - update\n",
    "        x = np.linalg.solve(\n",
    "            np.concatenate((np.block([rho * np.eye(n), A.transpose()]), np.block([A, np.zeros((m, m))]))),\n",
    "            np.concatenate((rho * (z - u) - c, b)))[0:n]\n",
    "        # z - update with relaxation\n",
    "        zold = z\n",
    "        x_hat = alpha * x + (1 - alpha) * zold\n",
    "        z = np.maximum(np.zeros((n, 1)), x_hat + u)\n",
    "        u = u + (x_hat - z)\n",
    "        # diagnostics, reporting, termination checks\n",
    "        history['iter'].append(k)\n",
    "        history['objval'].append(objective(c, x)[0][0])\n",
    "        history['r_norm'].append(np.linalg.norm(x - z))\n",
    "        history['s_norm'].append(np.linalg.norm(-rho * (z - zold)))\n",
    "        history['eps_pri'].append(np.sqrt(n) * ABSTOL + RELTOL * max(np.linalg.norm(x), np.linalg.norm(-z)))\n",
    "        history['eps_dual'].append(np.sqrt(n) * ABSTOL + RELTOL * np.linalg.norm(rho * u))\n",
    "        if not QUIET:\n",
    "            print('%3d\\t' % k, '%10.4f\\t' % history['r_norm'][k], '%10.4f\\t' % history['eps_pri'][k],\n",
    "                  '%10.4f\\t' % history['s_norm'][k],\n",
    "                  '%10.4f\\t' % history['eps_pri'][k], '%10.4f' % history['objval'][k])\n",
    "\n",
    "        if (history['r_norm'][k] < history['eps_pri'][k]) and (history['s_norm'][k] < history['eps_dual'][k]):\n",
    "            print(\"Convergence\")\n",
    "            break\n",
    "\n",
    "    if not QUIET:\n",
    "        t_end = time.time()\n",
    "        print(str(t_end - t_start) + \"sec Elapsed\")\n",
    "    return [z, history]\n",
    "\n",
    "\n",
    "def objective(c, x):\n",
    "    return c.conj().transpose() @ x\n"
   ]
  },
  {
   "cell_type": "code",
   "execution_count": 2,
   "metadata": {
    "scrolled": true
   },
   "outputs": [
    {
     "name": "stdout",
     "output_type": "stream",
     "text": [
      "iter\t     r norm\t    eps pri\t     s norm\t   eps dual\t  objective\n",
      "\n",
      "  0\t     1.0656\t     0.2161\t    21.3555\t     0.2161\t   376.7731\n",
      "  1\t     1.1226\t     0.2216\t     2.7441\t     0.2216\t   368.9034\n",
      "  2\t     1.4719\t     0.2292\t     2.4038\t     0.2292\t   362.4706\n",
      "  3\t     1.6212\t     0.2363\t     2.0494\t     0.2363\t   358.2285\n",
      "  4\t     1.5764\t     0.2420\t     1.8116\t     0.2420\t   356.0799\n",
      "  5\t     1.5808\t     0.2461\t     1.5190\t     0.2461\t   355.4861\n",
      "  6\t     1.4657\t     0.2477\t     1.2955\t     0.2477\t   356.0819\n",
      "  7\t     1.2745\t     0.2476\t     1.2274\t     0.2476\t   357.3178\n",
      "  8\t     1.1203\t     0.2468\t     1.1607\t     0.2468\t   358.7585\n",
      "  9\t     1.0174\t     0.2458\t     1.0671\t     0.2458\t   360.1764\n",
      " 10\t     0.9313\t     0.2449\t     0.9836\t     0.2449\t   361.4073\n",
      " 11\t     0.8378\t     0.2442\t     0.9079\t     0.2442\t   362.3730\n",
      " 12\t     0.7823\t     0.2438\t     0.8266\t     0.2438\t   363.0480\n",
      " 13\t     0.7059\t     0.2436\t     0.7788\t     0.2436\t   363.4569\n",
      " 14\t     0.6499\t     0.2436\t     0.7011\t     0.2436\t   363.6710\n",
      " 15\t     0.5985\t     0.2438\t     0.6521\t     0.2438\t   363.6727\n",
      " 16\t     0.5618\t     0.2441\t     0.5929\t     0.2441\t   363.5255\n",
      " 17\t     0.5307\t     0.2445\t     0.5523\t     0.2445\t   363.3019\n",
      " 18\t     0.4926\t     0.2450\t     0.5169\t     0.2450\t   363.1515\n",
      " 19\t     0.4562\t     0.2453\t     0.4834\t     0.2453\t   363.1258\n",
      " 20\t     0.4248\t     0.2455\t     0.4591\t     0.2455\t   363.1607\n",
      " 21\t     0.4099\t     0.2458\t     0.4256\t     0.2458\t   363.1880\n",
      " 22\t     0.4040\t     0.2460\t     0.3848\t     0.2460\t   363.1545\n",
      " 23\t     0.3818\t     0.2462\t     0.3503\t     0.2462\t   363.0575\n",
      " 24\t     0.3496\t     0.2462\t     0.3365\t     0.2462\t   362.9743\n",
      " 25\t     0.3189\t     0.2461\t     0.3239\t     0.2461\t   362.9329\n",
      " 26\t     0.2935\t     0.2459\t     0.3173\t     0.2459\t   362.9211\n",
      " 27\t     0.2746\t     0.2457\t     0.3078\t     0.2457\t   362.9387\n",
      " 28\t     0.2627\t     0.2455\t     0.2954\t     0.2455\t   362.9751\n",
      " 29\t     0.2592\t     0.2453\t     0.2776\t     0.2453\t   363.0210\n",
      " 30\t     0.2600\t     0.2452\t     0.2561\t     0.2452\t   363.0675\n",
      " 31\t     0.2651\t     0.2451\t     0.2295\t     0.2451\t   363.1024\n",
      " 32\t     0.2673\t     0.2451\t     0.2078\t     0.2451\t   363.1317\n",
      " 33\t     0.2624\t     0.2451\t     0.1954\t     0.2451\t   363.1622\n",
      " 34\t     0.2474\t     0.2451\t     0.1968\t     0.2451\t   363.1903\n",
      " 35\t     0.2204\t     0.2452\t     0.2108\t     0.2452\t   363.2068\n",
      " 36\t     0.1933\t     0.2452\t     0.2194\t     0.2452\t   363.2402\n",
      " 37\t     0.1691\t     0.2452\t     0.2259\t     0.2452\t   363.2679\n",
      " 38\t     0.1516\t     0.2453\t     0.2253\t     0.2453\t   363.2819\n",
      " 39\t     0.1492\t     0.2453\t     0.2148\t     0.2453\t   363.2899\n",
      " 40\t     0.1550\t     0.2454\t     0.2003\t     0.2454\t   363.2911\n",
      " 41\t     0.1587\t     0.2454\t     0.1870\t     0.2454\t   363.2875\n",
      " 42\t     0.1645\t     0.2455\t     0.1696\t     0.2455\t   363.2815\n",
      " 43\t     0.1678\t     0.2455\t     0.1563\t     0.2455\t   363.2797\n",
      " 44\t     0.1689\t     0.2455\t     0.1458\t     0.2455\t   363.2888\n",
      " 45\t     0.1677\t     0.2455\t     0.1369\t     0.2455\t   363.3165\n",
      " 46\t     0.1628\t     0.2454\t     0.1328\t     0.2454\t   363.3466\n",
      " 47\t     0.1509\t     0.2453\t     0.1383\t     0.2453\t   363.3716\n",
      " 48\t     0.1379\t     0.2453\t     0.1414\t     0.2453\t   363.4007\n",
      " 49\t     0.1260\t     0.2452\t     0.1456\t     0.2452\t   363.4275\n",
      " 50\t     0.1145\t     0.2451\t     0.1479\t     0.2451\t   363.4491\n",
      " 51\t     0.1102\t     0.2451\t     0.1448\t     0.2451\t   363.4673\n",
      " 52\t     0.1119\t     0.2451\t     0.1376\t     0.2451\t   363.4757\n",
      " 53\t     0.1180\t     0.2450\t     0.1267\t     0.2450\t   363.4698\n",
      " 54\t     0.1242\t     0.2450\t     0.1141\t     0.2450\t   363.4519\n",
      " 55\t     0.1276\t     0.2450\t     0.1034\t     0.2450\t   363.4223\n",
      " 56\t     0.1284\t     0.2451\t     0.0958\t     0.2451\t   363.3818\n",
      " 57\t     0.1266\t     0.2451\t     0.0916\t     0.2451\t   363.3316\n",
      "Convergence\n",
      "0.9714024066925049sec Elapsed\n"
     ]
    }
   ],
   "source": [
    "seed(0)\n",
    "\n",
    "n = 500\n",
    "m = 400\n",
    "\n",
    "c = rand(n, 1) + 0.5\n",
    "x0 = abs(randn(n, 1))\n",
    "A = abs(randn(m, n))\n",
    "b = A @ x0\n",
    "\n",
    "[x, history] = linear_program(c, A, b, 1.0, 1.0)"
   ]
  },
  {
   "cell_type": "code",
   "execution_count": 3,
   "metadata": {},
   "outputs": [
    {
     "data": {
      "image/png": "[encoded data removed]",
      "text/plain": [
       "<Figure size 432x288 with 1 Axes>"
      ]
     },
     "metadata": {
      "needs_background": "light"
     },
     "output_type": "display_data"
    }
   ],
   "source": [
    "plt.plot(history['iter'], history['objval'])\n",
    "plt.ylabel('obj')\n",
    "plt.xlabel('iter')\n",
    "plt.show()"
   ]
  },
  {
   "cell_type": "code",
   "execution_count": 4,
   "metadata": {},
   "outputs": [
    {
     "data": {
      "image/png": "[encoded data removed]",
      "text/plain": [
       "<Figure size 432x288 with 1 Axes>"
      ]
     },
     "metadata": {
      "needs_background": "light"
     },
     "output_type": "display_data"
    }
   ],
   "source": [
    "plt.plot(history['iter'], history['r_norm'])\n",
    "plt.plot(history['iter'], history['eps_pri'],'k--')\n",
    "plt.ylabel('||r||_2')\n",
    "plt.xlabel('iter')\n",
    "plt.yscale('log')\n",
    "plt.show()"
   ]
  },
  {
   "cell_type": "code",
   "execution_count": 5,
   "metadata": {},
   "outputs": [
    {
     "data": {
      "image/png": "[encoded data removed]",
      "text/plain": [
       "<Figure size 432x288 with 1 Axes>"
      ]
     },
     "metadata": {
      "needs_background": "light"
     },
     "output_type": "display_data"
    }
   ],
   "source": [
    "plt.plot(history['iter'], history['s_norm'])\n",
    "plt.plot(history['iter'], history['eps_dual'],'k--')\n",
    "plt.ylabel('||s||_2')\n",
    "plt.xlabel('iter')\n",
    "plt.yscale('log')\n",
    "plt.show()"
   ]
  },
  {
   "cell_type": "code",
   "execution_count": null,
   "metadata": {},
   "outputs": [],
   "source": []
  }
 ],
 "metadata": {
  "kernelspec": {
   "display_name": "Python 3",
   "language": "python",
   "name": "python3"
  },
  "language_info": {
   "codemirror_mode": {
    "name": "ipython",
    "version": 3
   },
   "file_extension": ".py",
   "mimetype": "text/x-python",
   "name": "python",
   "nbconvert_exporter": "python",
   "pygments_lexer": "ipython3",
   "version": "3.7.3"
  }
 },
 "nbformat": 4,
 "nbformat_minor": 2
}
